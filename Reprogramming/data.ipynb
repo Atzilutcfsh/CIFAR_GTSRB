{
 "cells": [
  {
   "cell_type": "code",
   "execution_count": 22,
   "id": "e69e0c3f-ce6b-4c25-822b-aa3e8ba20e6e",
   "metadata": {},
   "outputs": [],
   "source": [
    "import pandas as pd\n",
    "import numpy as np\n",
    "import torch"
   ]
  },
  {
   "cell_type": "code",
   "execution_count": 23,
   "id": "f41d48f1-ae1d-4132-8676-6ba404dfc02b",
   "metadata": {},
   "outputs": [],
   "source": [
    "import csv\n",
    "\n",
    "# 读取第一个CSV\n",
    "with open('d_c.csv', 'r') as f:\n",
    "    reader = csv.reader(f)\n",
    "    data1 = [row for i, row in enumerate(reader) if i < 6500] \n",
    "\n",
    "# 读取第二个CSV  \n",
    "with open('d_b.csv', 'r') as f:\n",
    "    rows = list(csv.reader(f))\n",
    "    data2 = [rows[i] for i in range(len(rows)-1500, len(rows))]\n",
    "\n",
    "# 合并两个list\n",
    "data = data1 + data2\n",
    "\n",
    "# 写入新CSV文件\n",
    "with open('new.csv', 'w', newline='') as f:\n",
    "    writer = csv.writer(f)\n",
    "    writer.writerows(data)"
   ]
  },
  {
   "cell_type": "code",
   "execution_count": 24,
   "id": "66523c2d-5e58-4dbf-b2fb-0066f37c59a5",
   "metadata": {},
   "outputs": [
    {
     "name": "stderr",
     "output_type": "stream",
     "text": [
      "/tmp/ipykernel_1698239/2642258871.py:1: DtypeWarning: Columns (27648) have mixed types. Specify dtype option on import or set low_memory=False.\n",
      "  df = pd.read_csv('new.csv')\n"
     ]
    }
   ],
   "source": [
    "df = pd.read_csv('new.csv')"
   ]
  },
  {
   "cell_type": "code",
   "execution_count": 21,
   "id": "b0544687-1ca9-451d-9f78-58d8897b5d97",
   "metadata": {},
   "outputs": [
    {
     "data": {
      "text/plain": [
       "(7546, 27649)"
      ]
     },
     "execution_count": 21,
     "metadata": {},
     "output_type": "execute_result"
    }
   ],
   "source": [
    "df.shape"
   ]
  },
  {
   "cell_type": "code",
   "execution_count": 9,
   "id": "7284ee3c-9114-4893-94c7-046ce8c3e0f2",
   "metadata": {},
   "outputs": [],
   "source": [
    "data1 = df1.loc[:, df1.columns != 'target'].values"
   ]
  },
  {
   "cell_type": "code",
   "execution_count": 10,
   "id": "39529428-22e3-4b8b-959b-3288025a3412",
   "metadata": {},
   "outputs": [],
   "source": [
    "data1 = torch.from_numpy(data1)"
   ]
  },
  {
   "cell_type": "code",
   "execution_count": 13,
   "id": "1c9827b7-6b71-4214-86b3-5a3b91f4cc0e",
   "metadata": {},
   "outputs": [],
   "source": [
    "data1 = data1.reshape(-1, 3, 32, 32)"
   ]
  },
  {
   "cell_type": "code",
   "execution_count": 14,
   "id": "4562ab7d-5598-4784-b9b0-4d0fccfb7708",
   "metadata": {},
   "outputs": [
    {
     "data": {
      "text/plain": [
       "torch.Size([8062, 3, 32, 32])"
      ]
     },
     "execution_count": 14,
     "metadata": {},
     "output_type": "execute_result"
    }
   ],
   "source": [
    "data1.shape"
   ]
  },
  {
   "cell_type": "code",
   "execution_count": 119,
   "id": "38dffc3f-b6dc-4049-babe-c867a7ef2f52",
   "metadata": {},
   "outputs": [],
   "source": [
    "target1 = df1['target'].values"
   ]
  },
  {
   "cell_type": "code",
   "execution_count": 120,
   "id": "3a41c299-f71b-429c-9294-bccdf1d045aa",
   "metadata": {},
   "outputs": [
    {
     "data": {
      "text/plain": [
       "(4000,)"
      ]
     },
     "execution_count": 120,
     "metadata": {},
     "output_type": "execute_result"
    }
   ],
   "source": [
    "target1.shape"
   ]
  },
  {
   "cell_type": "code",
   "execution_count": 121,
   "id": "9e75c9b0-32aa-4eb0-a99c-d0990c009569",
   "metadata": {},
   "outputs": [],
   "source": [
    "tf = target1[2000:]"
   ]
  },
  {
   "cell_type": "code",
   "execution_count": 122,
   "id": "3bc81853-f63d-412e-8337-755a0073bf75",
   "metadata": {},
   "outputs": [
    {
     "data": {
      "text/plain": [
       "array([4, 2, 6, ..., 8, 3, 7], dtype=object)"
      ]
     },
     "execution_count": 122,
     "metadata": {},
     "output_type": "execute_result"
    }
   ],
   "source": [
    "tf"
   ]
  },
  {
   "cell_type": "code",
   "execution_count": 123,
   "id": "3152cf72-f926-455d-9723-0f8c988ca0a6",
   "metadata": {},
   "outputs": [],
   "source": [
    "data = np.vstack((data1[1500:2000, :,:,:], data1[3500:, :,:,:]))"
   ]
  },
  {
   "cell_type": "code",
   "execution_count": 124,
   "id": "3607e422-5020-4ef4-941e-010698601ca4",
   "metadata": {},
   "outputs": [
    {
     "data": {
      "text/plain": [
       "(1000, 3, 96, 96)"
      ]
     },
     "execution_count": 124,
     "metadata": {},
     "output_type": "execute_result"
    }
   ],
   "source": [
    "data.shape"
   ]
  },
  {
   "cell_type": "code",
   "execution_count": 125,
   "id": "5f961665-bd90-4bff-8277-174b034f293d",
   "metadata": {},
   "outputs": [],
   "source": [
    "data = data.reshape(-1, data.shape[1]*data.shape[2]*data.shape[3])"
   ]
  },
  {
   "cell_type": "code",
   "execution_count": 126,
   "id": "f8873cf9-40d2-46cd-9d2a-1eb2911dea54",
   "metadata": {},
   "outputs": [
    {
     "data": {
      "text/plain": [
       "(1000, 27648)"
      ]
     },
     "execution_count": 126,
     "metadata": {},
     "output_type": "execute_result"
    }
   ],
   "source": [
    "data.shape"
   ]
  },
  {
   "cell_type": "code",
   "execution_count": 127,
   "id": "c307b20a-6b28-4976-a582-610db7f8bc1a",
   "metadata": {},
   "outputs": [],
   "source": [
    "target1 = np.hstack((target1[1500:2000], target1[3500:]))"
   ]
  },
  {
   "cell_type": "code",
   "execution_count": 128,
   "id": "35599ba6-741b-4eca-94a1-24f2a0ee038d",
   "metadata": {},
   "outputs": [
    {
     "data": {
      "text/plain": [
       "(1000,)"
      ]
     },
     "execution_count": 128,
     "metadata": {},
     "output_type": "execute_result"
    }
   ],
   "source": [
    "target1.shape"
   ]
  },
  {
   "cell_type": "code",
   "execution_count": 129,
   "id": "49d2dcaf-ab98-4f04-8391-dd8ef48c6999",
   "metadata": {},
   "outputs": [],
   "source": [
    "da = pd.DataFrame(data)\n",
    "da['target'] = target1\n",
    "\n",
    "# 選擇模式寫入CSV,a模式會附加到現有檔案\n",
    "da.to_csv('data_1000.csv', mode='a', index=False)"
   ]
  },
  {
   "cell_type": "code",
   "execution_count": null,
   "id": "f7d997dc-f3d4-4f98-8494-f2cb3a13e43a",
   "metadata": {},
   "outputs": [],
   "source": []
  }
 ],
 "metadata": {
  "kernelspec": {
   "display_name": "Python [conda env:.conda-TomTestEnv] *",
   "language": "python",
   "name": "conda-env-.conda-TomTestEnv-py"
  },
  "language_info": {
   "codemirror_mode": {
    "name": "ipython",
    "version": 3
   },
   "file_extension": ".py",
   "mimetype": "text/x-python",
   "name": "python",
   "nbconvert_exporter": "python",
   "pygments_lexer": "ipython3",
   "version": "3.11.0"
  }
 },
 "nbformat": 4,
 "nbformat_minor": 5
}
