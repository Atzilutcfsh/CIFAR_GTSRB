{
 "cells": [
  {
   "cell_type": "code",
   "execution_count": 376,
   "id": "0bead6c4-e807-43a6-b660-9fbdaad23354",
   "metadata": {},
   "outputs": [],
   "source": [
    "\n",
    "from typing import List, Tuple, Dict\n",
    "from copy import copy\n",
    "\n",
    "from tqdm import tqdm_notebook\n",
    "import numpy as np\n",
    "import pandas as pd"
   ]
  },
  {
   "cell_type": "code",
   "execution_count": 377,
   "id": "4326da1c-2301-4b3d-945e-d01a328520d2",
   "metadata": {},
   "outputs": [],
   "source": [
    "backdoor1 = pd.read_csv('csv/stl10_1000/train_b1.csv',header=None)\n",
    "backdoor2 = pd.read_csv('csv/stl10_1000/train_b2.csv',header=None)\n",
    "backdoor3 = pd.read_csv('csv/stl10_1000/train_b3.csv',header=None)\n",
    "backdoor4 = pd.read_csv('csv/stl10_1000/train_b4.csv',header=None)\n",
    "backdoor5 = pd.read_csv('csv/stl10_1000/train_b5.csv',header=None)\n",
    "backdoor6 = pd.read_csv('csv/stl10_1000/train_b6.csv',header=None)\n",
    "backdoor7 = pd.read_csv('csv/stl10_1000/train_b7.csv',header=None)\n",
    "backdoor8 = pd.read_csv('csv/stl10_1000/train_b8.csv',header=None)\n",
    "backdoor9 = pd.read_csv('csv/stl10_1000/train_b9.csv',header=None)\n",
    "backdoor10 = pd.read_csv('csv/stl10_1000/train_b10.csv',header=None)\n"
   ]
  },
  {
   "cell_type": "code",
   "execution_count": 378,
   "id": "828b9b01-682a-458b-a1f6-9641e972e219",
   "metadata": {},
   "outputs": [],
   "source": [
    "backdoor1 = backdoor1.values\n",
    "backdoor2 = backdoor2.values\n",
    "backdoor3 = backdoor3.values\n",
    "backdoor4 = backdoor4.values\n",
    "backdoor5 = backdoor5.values\n",
    "backdoor6 = backdoor6.values\n",
    "backdoor7 = backdoor7.values\n",
    "backdoor8 = backdoor8.values\n",
    "backdoor9 = backdoor9.values\n",
    "backdoor10 = backdoor10.values"
   ]
  },
  {
   "cell_type": "code",
   "execution_count": 379,
   "id": "fceaa059-9b79-469f-8d60-3ee21d2c3b0e",
   "metadata": {},
   "outputs": [],
   "source": [
    "backdoor = np.hstack((backdoor1, backdoor2, backdoor3, backdoor4, backdoor5, backdoor6, backdoor7, backdoor8, backdoor9, backdoor10))"
   ]
  },
  {
   "cell_type": "code",
   "execution_count": 380,
   "id": "58f8d4ef-25be-4c03-9de3-4f840577278a",
   "metadata": {},
   "outputs": [],
   "source": [
    "backdoor = backdoor.transpose() "
   ]
  },
  {
   "cell_type": "code",
   "execution_count": 381,
   "id": "d461ca35-b671-4e27-9ff6-f7cc8c5b9647",
   "metadata": {},
   "outputs": [
    {
     "data": {
      "text/plain": [
       "(10, 10000)"
      ]
     },
     "execution_count": 381,
     "metadata": {},
     "output_type": "execute_result"
    }
   ],
   "source": [
    "backdoor.shape"
   ]
  },
  {
   "cell_type": "code",
   "execution_count": 382,
   "id": "66275a63-76da-4ba4-b6d1-353f124c081b",
   "metadata": {},
   "outputs": [],
   "source": [
    "res_backdoor  = np.concatenate((backdoor,  np.zeros((len(backdoor[: ,-1]), 1))), axis=1)"
   ]
  },
  {
   "cell_type": "code",
   "execution_count": 383,
   "id": "89181e3c-1d75-44e6-ae6f-689a6a115914",
   "metadata": {},
   "outputs": [
    {
     "data": {
      "text/plain": [
       "(10, 10001)"
      ]
     },
     "execution_count": 383,
     "metadata": {},
     "output_type": "execute_result"
    }
   ],
   "source": [
    "res_backdoor.shape"
   ]
  },
  {
   "cell_type": "code",
   "execution_count": 384,
   "id": "587bc550-dc7d-41e6-a6b2-8a415c44bc13",
   "metadata": {},
   "outputs": [],
   "source": [
    "clean1 = pd.read_csv('csv/stl10_1000/train_c1.csv',header=None)\n",
    "clean2 = pd.read_csv('csv/stl10_1000/train_c2.csv',header=None)\n",
    "clean3 = pd.read_csv('csv/stl10_1000/train_c3.csv',header=None)\n",
    "clean4 = pd.read_csv('csv/stl10_1000/train_c4.csv',header=None)\n",
    "clean5 = pd.read_csv('csv/stl10_1000/train_c5.csv',header=None)\n",
    "clean6 = pd.read_csv('csv/stl10_1000/train_c6.csv',header=None)\n",
    "clean7 = pd.read_csv('csv/stl10_1000/train_c7.csv',header=None)\n",
    "clean8 = pd.read_csv('csv/stl10_1000/train_c8.csv',header=None)\n",
    "clean9 = pd.read_csv('csv/stl10_1000/train_c9.csv',header=None)\n",
    "clean10 = pd.read_csv('csv/stl10_1000/train_c10.csv',header=None)"
   ]
  },
  {
   "cell_type": "code",
   "execution_count": 385,
   "id": "3afe8988-720b-487f-8782-2b7a9b3c88a0",
   "metadata": {},
   "outputs": [],
   "source": [
    "clean1 = clean1.values\n",
    "clean2 = clean2.values\n",
    "clean3 = clean3.values\n",
    "clean4 = clean4.values\n",
    "clean5 = clean5.values\n",
    "clean6 = clean6.values\n",
    "clean7 = clean7.values\n",
    "clean8 = clean8.values\n",
    "clean9 = clean9.values\n",
    "clean10 = clean10.values"
   ]
  },
  {
   "cell_type": "code",
   "execution_count": 386,
   "id": "29b458a4-dc1c-4a3f-b5a6-4a370d6e69d7",
   "metadata": {},
   "outputs": [],
   "source": [
    "clean = np.hstack((clean1, clean2, clean3, clean4, clean5, clean6, clean7, clean8, clean9, clean10))"
   ]
  },
  {
   "cell_type": "code",
   "execution_count": 387,
   "id": "43f60f7c-ce69-4a66-a908-63e7001320c6",
   "metadata": {},
   "outputs": [],
   "source": [
    "clean = clean.transpose() "
   ]
  },
  {
   "cell_type": "code",
   "execution_count": 388,
   "id": "f42c5e58-5948-4478-9de5-1ab26b2746eb",
   "metadata": {},
   "outputs": [
    {
     "data": {
      "text/plain": [
       "(10, 10000)"
      ]
     },
     "execution_count": 388,
     "metadata": {},
     "output_type": "execute_result"
    }
   ],
   "source": [
    "clean.shape"
   ]
  },
  {
   "cell_type": "code",
   "execution_count": 389,
   "id": "099fffb8-a0df-454d-940d-5780c249fa1c",
   "metadata": {},
   "outputs": [],
   "source": [
    "res_clean  = np.concatenate((clean,  np.ones((len(clean[: ,-1]), 1))), axis=1)"
   ]
  },
  {
   "cell_type": "code",
   "execution_count": 390,
   "id": "d6c59e73-3a7d-44b4-bd89-22a7708dc03e",
   "metadata": {},
   "outputs": [
    {
     "data": {
      "text/plain": [
       "(10, 10001)"
      ]
     },
     "execution_count": 390,
     "metadata": {},
     "output_type": "execute_result"
    }
   ],
   "source": [
    "res_clean.shape"
   ]
  },
  {
   "cell_type": "code",
   "execution_count": 391,
   "id": "e01d9f60-21ef-4a56-98a4-a3fd0b7e0bb2",
   "metadata": {},
   "outputs": [],
   "source": [
    "model_results = np.vstack((res_clean, res_backdoor))"
   ]
  },
  {
   "cell_type": "code",
   "execution_count": 392,
   "id": "d0d3fae3-d365-4825-88dc-94d4e527c457",
   "metadata": {},
   "outputs": [
    {
     "data": {
      "text/plain": [
       "(20, 10001)"
      ]
     },
     "execution_count": 392,
     "metadata": {},
     "output_type": "execute_result"
    }
   ],
   "source": [
    "model_results.shape"
   ]
  },
  {
   "cell_type": "code",
   "execution_count": 393,
   "id": "a298df86-df1c-4952-8c3b-16441b199199",
   "metadata": {},
   "outputs": [],
   "source": [
    "from sklearn.ensemble import RandomForestClassifier"
   ]
  },
  {
   "cell_type": "code",
   "execution_count": 394,
   "id": "55bd4bc1-6d0b-40a6-9b33-a1ecb0f124e6",
   "metadata": {},
   "outputs": [],
   "source": [
    "model =np.vstack( (model_results[:5, :], model_results[10:15, :]))"
   ]
  },
  {
   "cell_type": "code",
   "execution_count": 395,
   "id": "0c580b19-1358-482a-9ba5-73b4ce849f55",
   "metadata": {},
   "outputs": [
    {
     "data": {
      "text/plain": [
       "(10, 10001)"
      ]
     },
     "execution_count": 395,
     "metadata": {},
     "output_type": "execute_result"
    }
   ],
   "source": [
    "model.shape"
   ]
  },
  {
   "cell_type": "code",
   "execution_count": 396,
   "id": "f77a6bea-1cc6-4e50-aa00-e2a0d419dc46",
   "metadata": {},
   "outputs": [],
   "source": [
    "model_label = model[:, -1]"
   ]
  },
  {
   "cell_type": "code",
   "execution_count": 397,
   "id": "9779287c-94db-4663-9393-793e2093470a",
   "metadata": {},
   "outputs": [
    {
     "data": {
      "text/plain": [
       "array([1., 1., 1., 1., 1., 0., 0., 0., 0., 0.])"
      ]
     },
     "execution_count": 397,
     "metadata": {},
     "output_type": "execute_result"
    }
   ],
   "source": [
    "model_label"
   ]
  },
  {
   "cell_type": "code",
   "execution_count": 398,
   "id": "545e3b21-2735-496b-8bff-721b53125218",
   "metadata": {},
   "outputs": [],
   "source": [
    "model = model[:, :-1]"
   ]
  },
  {
   "cell_type": "code",
   "execution_count": 399,
   "id": "eb873d87-b2a8-49d0-bf1e-8b2dc5633876",
   "metadata": {},
   "outputs": [],
   "source": [
    "forest = RandomForestClassifier(n_estimators = 1000)"
   ]
  },
  {
   "cell_type": "code",
   "execution_count": 400,
   "id": "aff93556-ed93-44cb-b683-15fee972bc59",
   "metadata": {},
   "outputs": [],
   "source": [
    "forest_fit = forest.fit(model,model_label)"
   ]
  },
  {
   "cell_type": "code",
   "execution_count": 401,
   "id": "a21d6001-ccf0-4d3d-8373-4b6723c83ac7",
   "metadata": {},
   "outputs": [],
   "source": [
    "yp_train = forest.predict(model)"
   ]
  },
  {
   "cell_type": "code",
   "execution_count": 402,
   "id": "bfb93b35-60ae-43f3-bc73-ef67c252e95a",
   "metadata": {},
   "outputs": [
    {
     "name": "stdout",
     "output_type": "stream",
     "text": [
      "Training Accuracy:  1.0\n"
     ]
    }
   ],
   "source": [
    "from sklearn.metrics import precision_score, recall_score, f1_score, accuracy_score, confusion_matrix\n",
    "train_accuracy = accuracy_score(model_label, yp_train)\n",
    "print(\"Training Accuracy: \", train_accuracy)"
   ]
  },
  {
   "cell_type": "code",
   "execution_count": 403,
   "id": "18a4be84-a0ed-4eb0-848e-4a5afd65a09d",
   "metadata": {},
   "outputs": [],
   "source": [
    "test =np.vstack( (model_results[5:10, :], model_results[15:20, :]))\n",
    "test_d = test[:, :-1]\n",
    "test_label = test[:, -1]"
   ]
  },
  {
   "cell_type": "code",
   "execution_count": 404,
   "id": "d5f8bd5a-a028-4acf-9e66-d978ea0b40ed",
   "metadata": {},
   "outputs": [],
   "source": [
    "yp_test = forest.predict(test_d)"
   ]
  },
  {
   "cell_type": "code",
   "execution_count": 405,
   "id": "d25a7984-ecca-43c1-a578-4f6411adba33",
   "metadata": {},
   "outputs": [
    {
     "name": "stdout",
     "output_type": "stream",
     "text": [
      "Test Accuracy:  1.0\n"
     ]
    }
   ],
   "source": [
    "test_accuracy = accuracy_score(test_label, yp_test)\n",
    "print(\"Test Accuracy: \", test_accuracy)"
   ]
  },
  {
   "cell_type": "code",
   "execution_count": 406,
   "id": "b7a7190b-b75d-4bef-a2d9-6027e664515e",
   "metadata": {},
   "outputs": [],
   "source": [
    "b_test = pd.read_csv('csv/b_train_1000.csv',header=None)\n",
    "c_test = pd.read_csv('csv/c_train_1000.csv',header=None)"
   ]
  },
  {
   "cell_type": "code",
   "execution_count": 407,
   "id": "4ae2d484-56ec-4d22-b3ae-cd3b07026329",
   "metadata": {},
   "outputs": [],
   "source": [
    "c_test = c_test.transpose() \n",
    "b_test = b_test.transpose() "
   ]
  },
  {
   "cell_type": "code",
   "execution_count": 408,
   "id": "d56c77c9-d245-4084-a65f-3d866a141248",
   "metadata": {},
   "outputs": [],
   "source": [
    "c_test = c_test.values\n",
    "b_test = b_test.values"
   ]
  },
  {
   "cell_type": "code",
   "execution_count": 409,
   "id": "c6a55e3b-6677-4ba2-b44a-fa10d504fcb1",
   "metadata": {},
   "outputs": [],
   "source": [
    "test_backdoor = b_test[:-1, :]\n",
    "test_clean = c_test[:-1, :]"
   ]
  },
  {
   "cell_type": "code",
   "execution_count": 410,
   "id": "d0cd5784-5760-4c68-ad4c-f5898f4a0672",
   "metadata": {},
   "outputs": [
    {
     "data": {
      "text/plain": [
       "(10, 15000)"
      ]
     },
     "execution_count": 410,
     "metadata": {},
     "output_type": "execute_result"
    }
   ],
   "source": [
    "test_clean.shape"
   ]
  },
  {
   "cell_type": "code",
   "execution_count": 411,
   "id": "5230245c-e295-46fc-915b-53769c97c28e",
   "metadata": {},
   "outputs": [
    {
     "name": "stdout",
     "output_type": "stream",
     "text": [
      "(15, 10000)\n"
     ]
    }
   ],
   "source": [
    "sub_matrices = np.split(test_clean, 15, axis=1)\n",
    "\n",
    "# 将子矩阵展开成 15 个 (1, 40000) 的矩阵\n",
    "flat_matrices = [sub_matrix.reshape(1, -1) for sub_matrix in sub_matrices]\n",
    "\n",
    "# 合并展开后的矩阵为一个形状为 (15, 40000) 的矩阵\n",
    "test_c = np.concatenate(flat_matrices)\n",
    "\n",
    "print(test_c.shape)  # 输出 (15, 40000)"
   ]
  },
  {
   "cell_type": "code",
   "execution_count": 412,
   "id": "7919877e-ac7e-4bb8-8cbb-e2b1ea78b9f6",
   "metadata": {},
   "outputs": [
    {
     "name": "stdout",
     "output_type": "stream",
     "text": [
      "(15, 10000)\n"
     ]
    }
   ],
   "source": [
    "sub_matrices = np.split(test_backdoor, 15, axis=1)\n",
    "\n",
    "# 将子矩阵展开成 15 个 (1, 40000) 的矩阵\n",
    "flat_matrices = [sub_matrix.reshape(1, -1) for sub_matrix in sub_matrices]\n",
    "\n",
    "# 合并展开后的矩阵为一个形状为 (15, 40000) 的矩阵\n",
    "test_b = np.concatenate(flat_matrices)\n",
    "\n",
    "print(test_b.shape)  # 输出 (15, 40000)"
   ]
  },
  {
   "cell_type": "code",
   "execution_count": 422,
   "id": "88a089c6-8db1-4888-b749-11182442d49a",
   "metadata": {},
   "outputs": [
    {
     "data": {
      "text/plain": [
       "array([[0.02115031, 0.0249904 , 0.04183302, ..., 0.07546048, 0.0563345 ,\n",
       "        0.02738506],\n",
       "       [0.00517998, 0.05154562, 0.09543033, ..., 0.02357944, 0.04392442,\n",
       "        0.04819529],\n",
       "       [0.01412661, 0.06593618, 0.07596023, ..., 0.18033685, 0.04939331,\n",
       "        0.0305715 ],\n",
       "       ...,\n",
       "       [0.15649591, 0.05382583, 0.04019616, ..., 0.03081907, 0.03371955,\n",
       "        0.01358206],\n",
       "       [0.01494832, 0.05312846, 0.07882865, ..., 0.06549784, 0.0399591 ,\n",
       "        0.01857553],\n",
       "       [0.11732293, 0.06051478, 0.04463794, ..., 0.02282641, 0.00839811,\n",
       "        0.01557811]])"
      ]
     },
     "execution_count": 422,
     "metadata": {},
     "output_type": "execute_result"
    }
   ],
   "source": [
    "test_b"
   ]
  },
  {
   "cell_type": "code",
   "execution_count": 413,
   "id": "e69b3ea8-a684-48c5-af5d-48881ee7ab3c",
   "metadata": {},
   "outputs": [],
   "source": [
    "mem_res_clean = forest.predict(test_c)\n",
    "mem_res_backdoor = forest.predict(test_b)"
   ]
  },
  {
   "cell_type": "code",
   "execution_count": 414,
   "id": "e04971c9-05ad-4b2b-97a3-c3c771b2b4f0",
   "metadata": {},
   "outputs": [],
   "source": [
    "from sklearn.metrics import precision_score, recall_score, f1_score, accuracy_score, confusion_matrix"
   ]
  },
  {
   "cell_type": "code",
   "execution_count": 415,
   "id": "39a4712a-df4f-45d2-a0cf-b501a55864bf",
   "metadata": {},
   "outputs": [
    {
     "data": {
      "text/plain": [
       "array([1., 1., 1., 1., 1., 1., 1., 1., 1., 1., 1., 1., 1., 1., 1.])"
      ]
     },
     "execution_count": 415,
     "metadata": {},
     "output_type": "execute_result"
    }
   ],
   "source": [
    "mem_res_clean"
   ]
  },
  {
   "cell_type": "code",
   "execution_count": 416,
   "id": "64097df3-af67-4f5b-a206-346e9aeb3d18",
   "metadata": {},
   "outputs": [
    {
     "data": {
      "text/plain": [
       "array([1., 1., 1., 1., 1., 1., 1., 1., 1., 1., 1., 1., 1., 1., 1.])"
      ]
     },
     "execution_count": 416,
     "metadata": {},
     "output_type": "execute_result"
    }
   ],
   "source": [
    "mem_res_backdoor"
   ]
  },
  {
   "cell_type": "code",
   "execution_count": 417,
   "id": "1da22933-d675-42cc-ad00-224681d1fee2",
   "metadata": {},
   "outputs": [],
   "source": [
    "y_pred = np.hstack((mem_res_clean, mem_res_backdoor))\n",
    "y_true = np.concatenate((np.ones_like(mem_res_clean), np.zeros_like(mem_res_backdoor)))"
   ]
  },
  {
   "cell_type": "code",
   "execution_count": 418,
   "id": "e5468882-694f-46df-ad0a-26a2773b05ac",
   "metadata": {},
   "outputs": [
    {
     "data": {
      "text/plain": [
       "0.5"
      ]
     },
     "execution_count": 418,
     "metadata": {},
     "output_type": "execute_result"
    }
   ],
   "source": [
    "precision_score(y_true, y_pred)"
   ]
  },
  {
   "cell_type": "code",
   "execution_count": 419,
   "id": "bec0ddc6-a883-43df-8455-b14523421d5d",
   "metadata": {},
   "outputs": [
    {
     "data": {
      "text/plain": [
       "0.5"
      ]
     },
     "execution_count": 419,
     "metadata": {},
     "output_type": "execute_result"
    }
   ],
   "source": [
    "accuracy_score(y_true, y_pred)"
   ]
  },
  {
   "cell_type": "code",
   "execution_count": 420,
   "id": "7cd4f657-c04c-46c8-ad5b-0b73d74ee7cc",
   "metadata": {},
   "outputs": [
    {
     "data": {
      "text/plain": [
       "0.6666666666666666"
      ]
     },
     "execution_count": 420,
     "metadata": {},
     "output_type": "execute_result"
    }
   ],
   "source": [
    "f1_score(y_true, y_pred)"
   ]
  },
  {
   "cell_type": "code",
   "execution_count": 421,
   "id": "e67dc79b-6505-4688-8b60-35c415cbee14",
   "metadata": {},
   "outputs": [
    {
     "data": {
      "text/plain": [
       "1.0"
      ]
     },
     "execution_count": 421,
     "metadata": {},
     "output_type": "execute_result"
    }
   ],
   "source": [
    "recall_score(y_true, y_pred)"
   ]
  },
  {
   "cell_type": "code",
   "execution_count": null,
   "id": "d36614a1-8f48-4f65-a3cc-bd66c92545a2",
   "metadata": {},
   "outputs": [],
   "source": []
  }
 ],
 "metadata": {
  "kernelspec": {
   "display_name": "Python [conda env:.conda-TomTestEnv] *",
   "language": "python",
   "name": "conda-env-.conda-TomTestEnv-py"
  },
  "language_info": {
   "codemirror_mode": {
    "name": "ipython",
    "version": 3
   },
   "file_extension": ".py",
   "mimetype": "text/x-python",
   "name": "python",
   "nbconvert_exporter": "python",
   "pygments_lexer": "ipython3",
   "version": "3.11.0"
  }
 },
 "nbformat": 4,
 "nbformat_minor": 5
}
