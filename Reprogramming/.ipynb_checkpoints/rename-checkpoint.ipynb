{
 "cells": [
  {
   "cell_type": "code",
   "execution_count": 7,
   "id": "1c6b545e-2500-4c8f-851a-9e1211011075",
   "metadata": {},
   "outputs": [],
   "source": [
    "import os\n",
    "import shutil\n",
    "\n",
    "folder = './models/badnet_cifar10_1000'\n",
    "\n",
    "file_list = os.listdir(folder)\n",
    "\n",
    "for i, filename in enumerate(file_list):\n",
    "    file_prefix = \"{:04d}\".format(i)\n",
    "    src = os.path.join(folder, filename)\n",
    "    dst = os.path.join(folder,'badnet_cifar10_' +file_prefix + '.pt')\n",
    "    shutil.move(src, dst)"
   ]
  },
  {
   "cell_type": "code",
   "execution_count": null,
   "id": "7c7d8ec4-63bc-435b-860b-b5e2a808d9ec",
   "metadata": {},
   "outputs": [],
   "source": []
  }
 ],
 "metadata": {
  "kernelspec": {
   "display_name": "Python [conda env:.conda-TomTestEnv] *",
   "language": "python",
   "name": "conda-env-.conda-TomTestEnv-py"
  },
  "language_info": {
   "codemirror_mode": {
    "name": "ipython",
    "version": 3
   },
   "file_extension": ".py",
   "mimetype": "text/x-python",
   "name": "python",
   "nbconvert_exporter": "python",
   "pygments_lexer": "ipython3",
   "version": "3.11.0"
  }
 },
 "nbformat": 4,
 "nbformat_minor": 5
}
