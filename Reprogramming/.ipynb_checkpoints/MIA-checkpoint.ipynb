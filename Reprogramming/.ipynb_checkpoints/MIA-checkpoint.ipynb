{
 "cells": [
  {
   "cell_type": "code",
   "execution_count": 793,
   "id": "11a6e636-7301-4327-a3b9-a9361b23c56d",
   "metadata": {},
   "outputs": [],
   "source": [
    "from typing import List, Tuple, Dict\n",
    "from copy import copy\n",
    "\n",
    "from tqdm import tqdm_notebook\n",
    "import numpy as np\n",
    "import pandas as pd"
   ]
  },
  {
   "cell_type": "code",
   "execution_count": 794,
   "id": "9189890e-d9d0-49b5-976c-dd97429516be",
   "metadata": {},
   "outputs": [],
   "source": [
    "backdoor = pd.read_csv('b_train.csv',header=None)"
   ]
  },
  {
   "cell_type": "code",
   "execution_count": 795,
   "id": "7d8f8912-7c97-44c7-9853-e876e2ccae76",
   "metadata": {},
   "outputs": [],
   "source": [
    "backdoor = backdoor.values"
   ]
  },
  {
   "cell_type": "code",
   "execution_count": 796,
   "id": "caae6e19-deea-43f8-b696-62f567e6ed4c",
   "metadata": {},
   "outputs": [],
   "source": [
    "res_backdoor  = np.concatenate((backdoor, np.zeros((len(backdoor[:, -1]), 1))), axis=1)"
   ]
  },
  {
   "cell_type": "code",
   "execution_count": 797,
   "id": "d5a692d7-d4c7-415e-8e49-2c077bda1365",
   "metadata": {},
   "outputs": [],
   "source": [
    "clean = pd.read_csv('c_train.csv',header=None)\n",
    "clean = clean.values"
   ]
  },
  {
   "cell_type": "code",
   "execution_count": 798,
   "id": "68f783d7-d2fc-4460-9d85-0ad1e5fe05cb",
   "metadata": {},
   "outputs": [],
   "source": [
    "res_clean  = np.concatenate((clean,  np.ones((len(clean[: ,-1]), 1))), axis=1)"
   ]
  },
  {
   "cell_type": "code",
   "execution_count": 799,
   "id": "ccd827b3-addf-4eb8-92b2-1e86f24d93b5",
   "metadata": {},
   "outputs": [
    {
     "data": {
      "text/plain": [
       "array([[0.05376492, 0.05409903, 0.1359825 , ..., 0.11848674, 6.        ,\n",
       "        1.        ],\n",
       "       [0.02252906, 0.00967184, 0.20531535, ..., 0.02936194, 7.        ,\n",
       "        1.        ],\n",
       "       [0.22453262, 0.066879  , 0.06422424, ..., 0.14379416, 5.        ,\n",
       "        1.        ],\n",
       "       ...,\n",
       "       [0.4341815 , 0.01277268, 0.11431133, ..., 0.08081577, 2.        ,\n",
       "        1.        ],\n",
       "       [0.01950057, 0.03573278, 0.17800894, ..., 0.28225106, 2.        ,\n",
       "        1.        ],\n",
       "       [0.11309104, 0.01487672, 0.07516164, ..., 0.04210447, 7.        ,\n",
       "        1.        ]])"
      ]
     },
     "execution_count": 799,
     "metadata": {},
     "output_type": "execute_result"
    }
   ],
   "source": [
    "res_clean"
   ]
  },
  {
   "cell_type": "code",
   "execution_count": 800,
   "id": "514b5035-f725-4945-ae77-d3367883983f",
   "metadata": {},
   "outputs": [],
   "source": [
    "model_results = np.vstack((res_clean, res_backdoor))"
   ]
  },
  {
   "cell_type": "code",
   "execution_count": 801,
   "id": "bcf9fe81-9a8d-4fca-a83a-23e2de7f68de",
   "metadata": {},
   "outputs": [
    {
     "data": {
      "text/plain": [
       "array([1., 1., 1., ..., 0., 0., 0.])"
      ]
     },
     "execution_count": 801,
     "metadata": {},
     "output_type": "execute_result"
    }
   ],
   "source": [
    "model_results[:, -1]"
   ]
  },
  {
   "cell_type": "code",
   "execution_count": 802,
   "id": "064c5bef-856c-4b6e-9c20-f1224e72caf0",
   "metadata": {},
   "outputs": [
    {
     "data": {
      "text/plain": [
       "array([6., 7., 5., ..., 2., 2., 7.])"
      ]
     },
     "execution_count": 802,
     "metadata": {},
     "output_type": "execute_result"
    }
   ],
   "source": [
    "model_results[:, -2]"
   ]
  },
  {
   "cell_type": "code",
   "execution_count": 803,
   "id": "c4d54a0f-31ba-4015-b5a2-9996e5de0a09",
   "metadata": {},
   "outputs": [
    {
     "data": {
      "text/plain": [
       "array([[5.3764924e-02, 5.4099027e-02, 1.3598250e-01, ..., 1.1848674e-01,\n",
       "        6.0000000e+00, 1.0000000e+00],\n",
       "       [2.2529058e-02, 9.6718390e-03, 2.0531535e-01, ..., 2.9361939e-02,\n",
       "        7.0000000e+00, 1.0000000e+00],\n",
       "       [2.2453262e-01, 6.6879004e-02, 6.4224236e-02, ..., 1.4379416e-01,\n",
       "        5.0000000e+00, 1.0000000e+00],\n",
       "       ...,\n",
       "       [7.0030540e-01, 2.7862402e-02, 5.6386855e-03, ..., 2.1589138e-02,\n",
       "        2.0000000e+00, 0.0000000e+00],\n",
       "       [3.8068290e-01, 1.4706442e-01, 4.3616480e-02, ..., 1.2089326e-01,\n",
       "        2.0000000e+00, 0.0000000e+00],\n",
       "       [3.9320430e-01, 1.1350253e-03, 6.9377600e-02, ..., 4.4483450e-02,\n",
       "        7.0000000e+00, 0.0000000e+00]])"
      ]
     },
     "execution_count": 803,
     "metadata": {},
     "output_type": "execute_result"
    }
   ],
   "source": [
    "model_results"
   ]
  },
  {
   "cell_type": "code",
   "execution_count": 804,
   "id": "2a3df469-4f5c-4437-844e-f8321020ce5a",
   "metadata": {},
   "outputs": [
    {
     "data": {
      "text/plain": [
       "478800"
      ]
     },
     "execution_count": 804,
     "metadata": {},
     "output_type": "execute_result"
    }
   ],
   "source": [
    "len(model_results)"
   ]
  },
  {
   "cell_type": "markdown",
   "id": "62706d9d-cd3c-487a-b6ff-706cb5786ccc",
   "metadata": {},
   "source": [
    "batch_size = 2000\n",
    "stride = 9984\n",
    "\n",
    "num_batches = (model_results.shape[0] - batch_size) // stride + 1\n",
    "\n",
    "batch_list = []\n",
    "\n",
    "for i in range(num_batches):\n",
    "    start = i * stride\n",
    "    end = start + batch_size\n",
    "    batch = model_results[start:end, :]\n",
    "    batch_list.append(batch)\n",
    "\n",
    "results = np.vstack(batch_list)"
   ]
  },
  {
   "cell_type": "code",
   "execution_count": 805,
   "id": "ce3cffba-2680-4fb9-b443-9e797c7ae0a1",
   "metadata": {},
   "outputs": [
    {
     "data": {
      "text/plain": [
       "(478800, 12)"
      ]
     },
     "execution_count": 805,
     "metadata": {},
     "output_type": "execute_result"
    }
   ],
   "source": [
    "model_results.shape"
   ]
  },
  {
   "cell_type": "code",
   "execution_count": 806,
   "id": "a6707fa3-ac14-410d-8bf1-ee2a3631882d",
   "metadata": {},
   "outputs": [
    {
     "data": {
      "text/plain": [
       "array([[5.3764924e-02, 5.4099027e-02, 1.3598250e-01, ..., 1.1848674e-01,\n",
       "        6.0000000e+00, 1.0000000e+00],\n",
       "       [2.2529058e-02, 9.6718390e-03, 2.0531535e-01, ..., 2.9361939e-02,\n",
       "        7.0000000e+00, 1.0000000e+00],\n",
       "       [2.2453262e-01, 6.6879004e-02, 6.4224236e-02, ..., 1.4379416e-01,\n",
       "        5.0000000e+00, 1.0000000e+00],\n",
       "       ...,\n",
       "       [7.0030540e-01, 2.7862402e-02, 5.6386855e-03, ..., 2.1589138e-02,\n",
       "        2.0000000e+00, 0.0000000e+00],\n",
       "       [3.8068290e-01, 1.4706442e-01, 4.3616480e-02, ..., 1.2089326e-01,\n",
       "        2.0000000e+00, 0.0000000e+00],\n",
       "       [3.9320430e-01, 1.1350253e-03, 6.9377600e-02, ..., 4.4483450e-02,\n",
       "        7.0000000e+00, 0.0000000e+00]])"
      ]
     },
     "execution_count": 806,
     "metadata": {},
     "output_type": "execute_result"
    }
   ],
   "source": [
    "model_results"
   ]
  },
  {
   "cell_type": "code",
   "execution_count": 807,
   "id": "d4f055f6-8937-4de8-a880-bce82fe78d48",
   "metadata": {},
   "outputs": [],
   "source": [
    "from sklearn.ensemble import RandomForestClassifier\n",
    "from mblearn import AttackModels"
   ]
  },
  {
   "cell_type": "code",
   "execution_count": 808,
   "id": "03d0a895-497b-4a24-95c4-18aa78906185",
   "metadata": {},
   "outputs": [
    {
     "ename": "KeyboardInterrupt",
     "evalue": "",
     "output_type": "error",
     "traceback": [
      "\u001b[0;31m---------------------------------------------------------------------------\u001b[0m",
      "\u001b[0;31mKeyboardInterrupt\u001b[0m                         Traceback (most recent call last)",
      "\u001b[0;32m/tmp/ipykernel_3188850/2642618987.py\u001b[0m in \u001b[0;36m<module>\u001b[0;34m\u001b[0m\n\u001b[1;32m      1\u001b[0m \u001b[0mrf_attack\u001b[0m \u001b[0;34m=\u001b[0m \u001b[0mRandomForestClassifier\u001b[0m\u001b[0;34m(\u001b[0m\u001b[0mn_estimators\u001b[0m\u001b[0;34m=\u001b[0m\u001b[0;36m100\u001b[0m\u001b[0;34m)\u001b[0m\u001b[0;34m\u001b[0m\u001b[0;34m\u001b[0m\u001b[0m\n\u001b[1;32m      2\u001b[0m \u001b[0mattacker\u001b[0m \u001b[0;34m=\u001b[0m \u001b[0mAttackModels\u001b[0m\u001b[0;34m(\u001b[0m\u001b[0mtarget_classes\u001b[0m\u001b[0;34m=\u001b[0m\u001b[0;36m10\u001b[0m\u001b[0;34m,\u001b[0m \u001b[0mattack_learner\u001b[0m\u001b[0;34m=\u001b[0m\u001b[0mrf_attack\u001b[0m\u001b[0;34m)\u001b[0m\u001b[0;34m\u001b[0m\u001b[0;34m\u001b[0m\u001b[0m\n\u001b[0;32m----> 3\u001b[0;31m \u001b[0mattacker\u001b[0m\u001b[0;34m.\u001b[0m\u001b[0mfit\u001b[0m\u001b[0;34m(\u001b[0m\u001b[0mmodel_results\u001b[0m\u001b[0;34m)\u001b[0m\u001b[0;34m\u001b[0m\u001b[0;34m\u001b[0m\u001b[0m\n\u001b[0m",
      "\u001b[0;32m~/Reprogramming/mblearn/attack_model.py\u001b[0m in \u001b[0;36mfit\u001b[0;34m(self, shadow_data, **learner_kwargs)\u001b[0m\n\u001b[1;32m     95\u001b[0m             \u001b[0mself\u001b[0m\u001b[0;34m.\u001b[0m\u001b[0m_update_learner_params\u001b[0m\u001b[0;34m(\u001b[0m\u001b[0mmodel\u001b[0m\u001b[0;34m,\u001b[0m \u001b[0;34m**\u001b[0m\u001b[0mlearner_kwargs\u001b[0m\u001b[0;34m)\u001b[0m\u001b[0;34m\u001b[0m\u001b[0;34m\u001b[0m\u001b[0m\n\u001b[1;32m     96\u001b[0m             \u001b[0;31m# train model\u001b[0m\u001b[0;34m\u001b[0m\u001b[0;34m\u001b[0m\u001b[0m\n\u001b[0;32m---> 97\u001b[0;31m             \u001b[0mmodel\u001b[0m\u001b[0;34m.\u001b[0m\u001b[0mfit\u001b[0m\u001b[0;34m(\u001b[0m\u001b[0mX\u001b[0m\u001b[0;34m,\u001b[0m \u001b[0my\u001b[0m\u001b[0;34m)\u001b[0m\u001b[0;34m\u001b[0m\u001b[0;34m\u001b[0m\u001b[0m\n\u001b[0m\u001b[1;32m     98\u001b[0m \u001b[0;34m\u001b[0m\u001b[0m\n\u001b[1;32m     99\u001b[0m         \u001b[0mself\u001b[0m\u001b[0;34m.\u001b[0m\u001b[0m_fited\u001b[0m \u001b[0;34m=\u001b[0m \u001b[0;32mTrue\u001b[0m\u001b[0;34m\u001b[0m\u001b[0;34m\u001b[0m\u001b[0m\n",
      "\u001b[0;32m/opt/anaconda3/lib/python3.9/site-packages/sklearn/ensemble/_forest.py\u001b[0m in \u001b[0;36mfit\u001b[0;34m(self, X, y, sample_weight)\u001b[0m\n\u001b[1;32m    448\u001b[0m             \u001b[0;31m# parallel_backend contexts set at a higher level,\u001b[0m\u001b[0;34m\u001b[0m\u001b[0;34m\u001b[0m\u001b[0m\n\u001b[1;32m    449\u001b[0m             \u001b[0;31m# since correctness does not rely on using threads.\u001b[0m\u001b[0;34m\u001b[0m\u001b[0;34m\u001b[0m\u001b[0m\n\u001b[0;32m--> 450\u001b[0;31m             trees = Parallel(\n\u001b[0m\u001b[1;32m    451\u001b[0m                 \u001b[0mn_jobs\u001b[0m\u001b[0;34m=\u001b[0m\u001b[0mself\u001b[0m\u001b[0;34m.\u001b[0m\u001b[0mn_jobs\u001b[0m\u001b[0;34m,\u001b[0m\u001b[0;34m\u001b[0m\u001b[0;34m\u001b[0m\u001b[0m\n\u001b[1;32m    452\u001b[0m                 \u001b[0mverbose\u001b[0m\u001b[0;34m=\u001b[0m\u001b[0mself\u001b[0m\u001b[0;34m.\u001b[0m\u001b[0mverbose\u001b[0m\u001b[0;34m,\u001b[0m\u001b[0;34m\u001b[0m\u001b[0;34m\u001b[0m\u001b[0m\n",
      "\u001b[0;32m/opt/anaconda3/lib/python3.9/site-packages/joblib/parallel.py\u001b[0m in \u001b[0;36m__call__\u001b[0;34m(self, iterable)\u001b[0m\n\u001b[1;32m   1044\u001b[0m                 \u001b[0mself\u001b[0m\u001b[0;34m.\u001b[0m\u001b[0m_iterating\u001b[0m \u001b[0;34m=\u001b[0m \u001b[0mself\u001b[0m\u001b[0;34m.\u001b[0m\u001b[0m_original_iterator\u001b[0m \u001b[0;32mis\u001b[0m \u001b[0;32mnot\u001b[0m \u001b[0;32mNone\u001b[0m\u001b[0;34m\u001b[0m\u001b[0;34m\u001b[0m\u001b[0m\n\u001b[1;32m   1045\u001b[0m \u001b[0;34m\u001b[0m\u001b[0m\n\u001b[0;32m-> 1046\u001b[0;31m             \u001b[0;32mwhile\u001b[0m \u001b[0mself\u001b[0m\u001b[0;34m.\u001b[0m\u001b[0mdispatch_one_batch\u001b[0m\u001b[0;34m(\u001b[0m\u001b[0miterator\u001b[0m\u001b[0;34m)\u001b[0m\u001b[0;34m:\u001b[0m\u001b[0;34m\u001b[0m\u001b[0;34m\u001b[0m\u001b[0m\n\u001b[0m\u001b[1;32m   1047\u001b[0m                 \u001b[0;32mpass\u001b[0m\u001b[0;34m\u001b[0m\u001b[0;34m\u001b[0m\u001b[0m\n\u001b[1;32m   1048\u001b[0m \u001b[0;34m\u001b[0m\u001b[0m\n",
      "\u001b[0;32m/opt/anaconda3/lib/python3.9/site-packages/joblib/parallel.py\u001b[0m in \u001b[0;36mdispatch_one_batch\u001b[0;34m(self, iterator)\u001b[0m\n\u001b[1;32m    859\u001b[0m                 \u001b[0;32mreturn\u001b[0m \u001b[0;32mFalse\u001b[0m\u001b[0;34m\u001b[0m\u001b[0;34m\u001b[0m\u001b[0m\n\u001b[1;32m    860\u001b[0m             \u001b[0;32melse\u001b[0m\u001b[0;34m:\u001b[0m\u001b[0;34m\u001b[0m\u001b[0;34m\u001b[0m\u001b[0m\n\u001b[0;32m--> 861\u001b[0;31m                 \u001b[0mself\u001b[0m\u001b[0;34m.\u001b[0m\u001b[0m_dispatch\u001b[0m\u001b[0;34m(\u001b[0m\u001b[0mtasks\u001b[0m\u001b[0;34m)\u001b[0m\u001b[0;34m\u001b[0m\u001b[0;34m\u001b[0m\u001b[0m\n\u001b[0m\u001b[1;32m    862\u001b[0m                 \u001b[0;32mreturn\u001b[0m \u001b[0;32mTrue\u001b[0m\u001b[0;34m\u001b[0m\u001b[0;34m\u001b[0m\u001b[0m\n\u001b[1;32m    863\u001b[0m \u001b[0;34m\u001b[0m\u001b[0m\n",
      "\u001b[0;32m/opt/anaconda3/lib/python3.9/site-packages/joblib/parallel.py\u001b[0m in \u001b[0;36m_dispatch\u001b[0;34m(self, batch)\u001b[0m\n\u001b[1;32m    777\u001b[0m         \u001b[0;32mwith\u001b[0m \u001b[0mself\u001b[0m\u001b[0;34m.\u001b[0m\u001b[0m_lock\u001b[0m\u001b[0;34m:\u001b[0m\u001b[0;34m\u001b[0m\u001b[0;34m\u001b[0m\u001b[0m\n\u001b[1;32m    778\u001b[0m             \u001b[0mjob_idx\u001b[0m \u001b[0;34m=\u001b[0m \u001b[0mlen\u001b[0m\u001b[0;34m(\u001b[0m\u001b[0mself\u001b[0m\u001b[0;34m.\u001b[0m\u001b[0m_jobs\u001b[0m\u001b[0;34m)\u001b[0m\u001b[0;34m\u001b[0m\u001b[0;34m\u001b[0m\u001b[0m\n\u001b[0;32m--> 779\u001b[0;31m             \u001b[0mjob\u001b[0m \u001b[0;34m=\u001b[0m \u001b[0mself\u001b[0m\u001b[0;34m.\u001b[0m\u001b[0m_backend\u001b[0m\u001b[0;34m.\u001b[0m\u001b[0mapply_async\u001b[0m\u001b[0;34m(\u001b[0m\u001b[0mbatch\u001b[0m\u001b[0;34m,\u001b[0m \u001b[0mcallback\u001b[0m\u001b[0;34m=\u001b[0m\u001b[0mcb\u001b[0m\u001b[0;34m)\u001b[0m\u001b[0;34m\u001b[0m\u001b[0;34m\u001b[0m\u001b[0m\n\u001b[0m\u001b[1;32m    780\u001b[0m             \u001b[0;31m# A job can complete so quickly than its callback is\u001b[0m\u001b[0;34m\u001b[0m\u001b[0;34m\u001b[0m\u001b[0m\n\u001b[1;32m    781\u001b[0m             \u001b[0;31m# called before we get here, causing self._jobs to\u001b[0m\u001b[0;34m\u001b[0m\u001b[0;34m\u001b[0m\u001b[0m\n",
      "\u001b[0;32m/opt/anaconda3/lib/python3.9/site-packages/joblib/_parallel_backends.py\u001b[0m in \u001b[0;36mapply_async\u001b[0;34m(self, func, callback)\u001b[0m\n\u001b[1;32m    206\u001b[0m     \u001b[0;32mdef\u001b[0m \u001b[0mapply_async\u001b[0m\u001b[0;34m(\u001b[0m\u001b[0mself\u001b[0m\u001b[0;34m,\u001b[0m \u001b[0mfunc\u001b[0m\u001b[0;34m,\u001b[0m \u001b[0mcallback\u001b[0m\u001b[0;34m=\u001b[0m\u001b[0;32mNone\u001b[0m\u001b[0;34m)\u001b[0m\u001b[0;34m:\u001b[0m\u001b[0;34m\u001b[0m\u001b[0;34m\u001b[0m\u001b[0m\n\u001b[1;32m    207\u001b[0m         \u001b[0;34m\"\"\"Schedule a func to be run\"\"\"\u001b[0m\u001b[0;34m\u001b[0m\u001b[0;34m\u001b[0m\u001b[0m\n\u001b[0;32m--> 208\u001b[0;31m         \u001b[0mresult\u001b[0m \u001b[0;34m=\u001b[0m \u001b[0mImmediateResult\u001b[0m\u001b[0;34m(\u001b[0m\u001b[0mfunc\u001b[0m\u001b[0;34m)\u001b[0m\u001b[0;34m\u001b[0m\u001b[0;34m\u001b[0m\u001b[0m\n\u001b[0m\u001b[1;32m    209\u001b[0m         \u001b[0;32mif\u001b[0m \u001b[0mcallback\u001b[0m\u001b[0;34m:\u001b[0m\u001b[0;34m\u001b[0m\u001b[0;34m\u001b[0m\u001b[0m\n\u001b[1;32m    210\u001b[0m             \u001b[0mcallback\u001b[0m\u001b[0;34m(\u001b[0m\u001b[0mresult\u001b[0m\u001b[0;34m)\u001b[0m\u001b[0;34m\u001b[0m\u001b[0;34m\u001b[0m\u001b[0m\n",
      "\u001b[0;32m/opt/anaconda3/lib/python3.9/site-packages/joblib/_parallel_backends.py\u001b[0m in \u001b[0;36m__init__\u001b[0;34m(self, batch)\u001b[0m\n\u001b[1;32m    570\u001b[0m         \u001b[0;31m# Don't delay the application, to avoid keeping the input\u001b[0m\u001b[0;34m\u001b[0m\u001b[0;34m\u001b[0m\u001b[0m\n\u001b[1;32m    571\u001b[0m         \u001b[0;31m# arguments in memory\u001b[0m\u001b[0;34m\u001b[0m\u001b[0;34m\u001b[0m\u001b[0m\n\u001b[0;32m--> 572\u001b[0;31m         \u001b[0mself\u001b[0m\u001b[0;34m.\u001b[0m\u001b[0mresults\u001b[0m \u001b[0;34m=\u001b[0m \u001b[0mbatch\u001b[0m\u001b[0;34m(\u001b[0m\u001b[0;34m)\u001b[0m\u001b[0;34m\u001b[0m\u001b[0;34m\u001b[0m\u001b[0m\n\u001b[0m\u001b[1;32m    573\u001b[0m \u001b[0;34m\u001b[0m\u001b[0m\n\u001b[1;32m    574\u001b[0m     \u001b[0;32mdef\u001b[0m \u001b[0mget\u001b[0m\u001b[0;34m(\u001b[0m\u001b[0mself\u001b[0m\u001b[0;34m)\u001b[0m\u001b[0;34m:\u001b[0m\u001b[0;34m\u001b[0m\u001b[0;34m\u001b[0m\u001b[0m\n",
      "\u001b[0;32m/opt/anaconda3/lib/python3.9/site-packages/joblib/parallel.py\u001b[0m in \u001b[0;36m__call__\u001b[0;34m(self)\u001b[0m\n\u001b[1;32m    260\u001b[0m         \u001b[0;31m# change the default number of processes to -1\u001b[0m\u001b[0;34m\u001b[0m\u001b[0;34m\u001b[0m\u001b[0m\n\u001b[1;32m    261\u001b[0m         \u001b[0;32mwith\u001b[0m \u001b[0mparallel_backend\u001b[0m\u001b[0;34m(\u001b[0m\u001b[0mself\u001b[0m\u001b[0;34m.\u001b[0m\u001b[0m_backend\u001b[0m\u001b[0;34m,\u001b[0m \u001b[0mn_jobs\u001b[0m\u001b[0;34m=\u001b[0m\u001b[0mself\u001b[0m\u001b[0;34m.\u001b[0m\u001b[0m_n_jobs\u001b[0m\u001b[0;34m)\u001b[0m\u001b[0;34m:\u001b[0m\u001b[0;34m\u001b[0m\u001b[0;34m\u001b[0m\u001b[0m\n\u001b[0;32m--> 262\u001b[0;31m             return [func(*args, **kwargs)\n\u001b[0m\u001b[1;32m    263\u001b[0m                     for func, args, kwargs in self.items]\n\u001b[1;32m    264\u001b[0m \u001b[0;34m\u001b[0m\u001b[0m\n",
      "\u001b[0;32m/opt/anaconda3/lib/python3.9/site-packages/joblib/parallel.py\u001b[0m in \u001b[0;36m<listcomp>\u001b[0;34m(.0)\u001b[0m\n\u001b[1;32m    260\u001b[0m         \u001b[0;31m# change the default number of processes to -1\u001b[0m\u001b[0;34m\u001b[0m\u001b[0;34m\u001b[0m\u001b[0m\n\u001b[1;32m    261\u001b[0m         \u001b[0;32mwith\u001b[0m \u001b[0mparallel_backend\u001b[0m\u001b[0;34m(\u001b[0m\u001b[0mself\u001b[0m\u001b[0;34m.\u001b[0m\u001b[0m_backend\u001b[0m\u001b[0;34m,\u001b[0m \u001b[0mn_jobs\u001b[0m\u001b[0;34m=\u001b[0m\u001b[0mself\u001b[0m\u001b[0;34m.\u001b[0m\u001b[0m_n_jobs\u001b[0m\u001b[0;34m)\u001b[0m\u001b[0;34m:\u001b[0m\u001b[0;34m\u001b[0m\u001b[0;34m\u001b[0m\u001b[0m\n\u001b[0;32m--> 262\u001b[0;31m             return [func(*args, **kwargs)\n\u001b[0m\u001b[1;32m    263\u001b[0m                     for func, args, kwargs in self.items]\n\u001b[1;32m    264\u001b[0m \u001b[0;34m\u001b[0m\u001b[0m\n",
      "\u001b[0;32m/opt/anaconda3/lib/python3.9/site-packages/sklearn/utils/fixes.py\u001b[0m in \u001b[0;36m__call__\u001b[0;34m(self, *args, **kwargs)\u001b[0m\n\u001b[1;32m    214\u001b[0m     \u001b[0;32mdef\u001b[0m \u001b[0m__call__\u001b[0m\u001b[0;34m(\u001b[0m\u001b[0mself\u001b[0m\u001b[0;34m,\u001b[0m \u001b[0;34m*\u001b[0m\u001b[0margs\u001b[0m\u001b[0;34m,\u001b[0m \u001b[0;34m**\u001b[0m\u001b[0mkwargs\u001b[0m\u001b[0;34m)\u001b[0m\u001b[0;34m:\u001b[0m\u001b[0;34m\u001b[0m\u001b[0;34m\u001b[0m\u001b[0m\n\u001b[1;32m    215\u001b[0m         \u001b[0;32mwith\u001b[0m \u001b[0mconfig_context\u001b[0m\u001b[0;34m(\u001b[0m\u001b[0;34m**\u001b[0m\u001b[0mself\u001b[0m\u001b[0;34m.\u001b[0m\u001b[0mconfig\u001b[0m\u001b[0;34m)\u001b[0m\u001b[0;34m:\u001b[0m\u001b[0;34m\u001b[0m\u001b[0;34m\u001b[0m\u001b[0m\n\u001b[0;32m--> 216\u001b[0;31m             \u001b[0;32mreturn\u001b[0m \u001b[0mself\u001b[0m\u001b[0;34m.\u001b[0m\u001b[0mfunction\u001b[0m\u001b[0;34m(\u001b[0m\u001b[0;34m*\u001b[0m\u001b[0margs\u001b[0m\u001b[0;34m,\u001b[0m \u001b[0;34m**\u001b[0m\u001b[0mkwargs\u001b[0m\u001b[0;34m)\u001b[0m\u001b[0;34m\u001b[0m\u001b[0;34m\u001b[0m\u001b[0m\n\u001b[0m\u001b[1;32m    217\u001b[0m \u001b[0;34m\u001b[0m\u001b[0m\n\u001b[1;32m    218\u001b[0m \u001b[0;34m\u001b[0m\u001b[0m\n",
      "\u001b[0;32m/opt/anaconda3/lib/python3.9/site-packages/sklearn/ensemble/_forest.py\u001b[0m in \u001b[0;36m_parallel_build_trees\u001b[0;34m(tree, forest, X, y, sample_weight, tree_idx, n_trees, verbose, class_weight, n_samples_bootstrap)\u001b[0m\n\u001b[1;32m    183\u001b[0m             \u001b[0mcurr_sample_weight\u001b[0m \u001b[0;34m*=\u001b[0m \u001b[0mcompute_sample_weight\u001b[0m\u001b[0;34m(\u001b[0m\u001b[0;34m\"balanced\"\u001b[0m\u001b[0;34m,\u001b[0m \u001b[0my\u001b[0m\u001b[0;34m,\u001b[0m \u001b[0mindices\u001b[0m\u001b[0;34m=\u001b[0m\u001b[0mindices\u001b[0m\u001b[0;34m)\u001b[0m\u001b[0;34m\u001b[0m\u001b[0;34m\u001b[0m\u001b[0m\n\u001b[1;32m    184\u001b[0m \u001b[0;34m\u001b[0m\u001b[0m\n\u001b[0;32m--> 185\u001b[0;31m         \u001b[0mtree\u001b[0m\u001b[0;34m.\u001b[0m\u001b[0mfit\u001b[0m\u001b[0;34m(\u001b[0m\u001b[0mX\u001b[0m\u001b[0;34m,\u001b[0m \u001b[0my\u001b[0m\u001b[0;34m,\u001b[0m \u001b[0msample_weight\u001b[0m\u001b[0;34m=\u001b[0m\u001b[0mcurr_sample_weight\u001b[0m\u001b[0;34m,\u001b[0m \u001b[0mcheck_input\u001b[0m\u001b[0;34m=\u001b[0m\u001b[0;32mFalse\u001b[0m\u001b[0;34m)\u001b[0m\u001b[0;34m\u001b[0m\u001b[0;34m\u001b[0m\u001b[0m\n\u001b[0m\u001b[1;32m    186\u001b[0m     \u001b[0;32melse\u001b[0m\u001b[0;34m:\u001b[0m\u001b[0;34m\u001b[0m\u001b[0;34m\u001b[0m\u001b[0m\n\u001b[1;32m    187\u001b[0m         \u001b[0mtree\u001b[0m\u001b[0;34m.\u001b[0m\u001b[0mfit\u001b[0m\u001b[0;34m(\u001b[0m\u001b[0mX\u001b[0m\u001b[0;34m,\u001b[0m \u001b[0my\u001b[0m\u001b[0;34m,\u001b[0m \u001b[0msample_weight\u001b[0m\u001b[0;34m=\u001b[0m\u001b[0msample_weight\u001b[0m\u001b[0;34m,\u001b[0m \u001b[0mcheck_input\u001b[0m\u001b[0;34m=\u001b[0m\u001b[0;32mFalse\u001b[0m\u001b[0;34m)\u001b[0m\u001b[0;34m\u001b[0m\u001b[0;34m\u001b[0m\u001b[0m\n",
      "\u001b[0;32m/opt/anaconda3/lib/python3.9/site-packages/sklearn/tree/_classes.py\u001b[0m in \u001b[0;36mfit\u001b[0;34m(self, X, y, sample_weight, check_input, X_idx_sorted)\u001b[0m\n\u001b[1;32m    935\u001b[0m         \"\"\"\n\u001b[1;32m    936\u001b[0m \u001b[0;34m\u001b[0m\u001b[0m\n\u001b[0;32m--> 937\u001b[0;31m         super().fit(\n\u001b[0m\u001b[1;32m    938\u001b[0m             \u001b[0mX\u001b[0m\u001b[0;34m,\u001b[0m\u001b[0;34m\u001b[0m\u001b[0;34m\u001b[0m\u001b[0m\n\u001b[1;32m    939\u001b[0m             \u001b[0my\u001b[0m\u001b[0;34m,\u001b[0m\u001b[0;34m\u001b[0m\u001b[0;34m\u001b[0m\u001b[0m\n",
      "\u001b[0;32m/opt/anaconda3/lib/python3.9/site-packages/sklearn/tree/_classes.py\u001b[0m in \u001b[0;36mfit\u001b[0;34m(self, X, y, sample_weight, check_input, X_idx_sorted)\u001b[0m\n\u001b[1;32m    418\u001b[0m             )\n\u001b[1;32m    419\u001b[0m \u001b[0;34m\u001b[0m\u001b[0m\n\u001b[0;32m--> 420\u001b[0;31m         \u001b[0mbuilder\u001b[0m\u001b[0;34m.\u001b[0m\u001b[0mbuild\u001b[0m\u001b[0;34m(\u001b[0m\u001b[0mself\u001b[0m\u001b[0;34m.\u001b[0m\u001b[0mtree_\u001b[0m\u001b[0;34m,\u001b[0m \u001b[0mX\u001b[0m\u001b[0;34m,\u001b[0m \u001b[0my\u001b[0m\u001b[0;34m,\u001b[0m \u001b[0msample_weight\u001b[0m\u001b[0;34m)\u001b[0m\u001b[0;34m\u001b[0m\u001b[0;34m\u001b[0m\u001b[0m\n\u001b[0m\u001b[1;32m    421\u001b[0m \u001b[0;34m\u001b[0m\u001b[0m\n\u001b[1;32m    422\u001b[0m         \u001b[0;32mif\u001b[0m \u001b[0mself\u001b[0m\u001b[0;34m.\u001b[0m\u001b[0mn_outputs_\u001b[0m \u001b[0;34m==\u001b[0m \u001b[0;36m1\u001b[0m \u001b[0;32mand\u001b[0m \u001b[0mis_classifier\u001b[0m\u001b[0;34m(\u001b[0m\u001b[0mself\u001b[0m\u001b[0;34m)\u001b[0m\u001b[0;34m:\u001b[0m\u001b[0;34m\u001b[0m\u001b[0;34m\u001b[0m\u001b[0m\n",
      "\u001b[0;31mKeyboardInterrupt\u001b[0m: "
     ]
    }
   ],
   "source": [
    "rf_attack = RandomForestClassifier(n_estimators=100)\n",
    "attacker = AttackModels(target_classes=10, attack_learner=rf_attack)\n",
    "attacker.fit(model_results)"
   ]
  },
  {
   "cell_type": "code",
   "execution_count": 772,
   "id": "d4a0eeb2-6e35-407d-a865-992ccc08ddbc",
   "metadata": {},
   "outputs": [],
   "source": [
    "backdoor_test = pd.read_csv('b_train_test.csv',header=None)\n",
    "backdoor_test = backdoor_test.values"
   ]
  },
  {
   "cell_type": "code",
   "execution_count": 773,
   "id": "70e160f7-8833-4a44-a2a2-e09d9a1978e4",
   "metadata": {},
   "outputs": [],
   "source": [
    "clean_test = pd.read_csv('c_train_test.csv',header=None)\n",
    "clean_test = clean_test.values"
   ]
  },
  {
   "cell_type": "code",
   "execution_count": 774,
   "id": "d9a13da9-c64d-466e-b8a5-382e73918cd8",
   "metadata": {},
   "outputs": [
    {
     "name": "stdout",
     "output_type": "stream",
     "text": [
      "79800\n"
     ]
    }
   ],
   "source": [
    "print(len(clean_test))"
   ]
  },
  {
   "cell_type": "markdown",
   "id": "bf6185ce-6269-49b1-ba6d-f79b39f9623e",
   "metadata": {},
   "source": [
    "batch_size = 2000\n",
    "stride = 60000\n",
    "\n",
    "num_batches = (backdoor_test.shape[0] - batch_size) // stride + 1\n",
    "\n",
    "batch_list = []\n",
    "\n",
    "for i in range(num_batches):\n",
    "    start = i * stride\n",
    "    end = start + batch_size\n",
    "    batch = backdoor_test[start:end, :]\n",
    "    batch_list.append(batch)\n",
    "\n",
    "backdoor_test = np.vstack(batch_list)"
   ]
  },
  {
   "cell_type": "markdown",
   "id": "a54587d2-6267-436b-b2d3-c74219304a76",
   "metadata": {},
   "source": [
    "batch_size = 2000\n",
    "stride = 60000\n",
    "\n",
    "num_batches = (clean_test.shape[0] - batch_size) // stride + 1\n",
    "\n",
    "batch_list = []\n",
    "\n",
    "for i in range(num_batches):\n",
    "    start = i * stride\n",
    "    end = start + batch_size\n",
    "    batch = clean_test[start:end, :]\n",
    "    batch_list.append(batch)\n",
    "\n",
    "clean_test = np.vstack(batch_list)"
   ]
  },
  {
   "cell_type": "code",
   "execution_count": 775,
   "id": "e3db48d3-90ef-4a9b-9725-26afe36404c3",
   "metadata": {},
   "outputs": [],
   "source": [
    "backdoor_test_out = backdoor_test[:,:-1]\n",
    "backdoor_test_label = backdoor_test[:,-1]\n",
    "clean_test_out = clean_test[:,:-1]\n",
    "clean_test_label = clean_test[:,-1]"
   ]
  },
  {
   "cell_type": "code",
   "execution_count": 776,
   "id": "163a00cc-5d38-430d-9ef4-61de64300f8e",
   "metadata": {},
   "outputs": [],
   "source": [
    "backdoor_test_label = backdoor_test_label.astype(int)\n",
    "clean_test_label = clean_test_label.astype(int)"
   ]
  },
  {
   "cell_type": "code",
   "execution_count": 777,
   "id": "8308ad3f-6c38-4e92-a0cf-22561beb6173",
   "metadata": {},
   "outputs": [
    {
     "data": {
      "text/plain": [
       "array([[0.08951516, 0.0718791 , 0.02650975, ..., 0.0730058 , 0.0305978 ,\n",
       "        0.04365988],\n",
       "       [0.24233079, 0.20517854, 0.05907395, ..., 0.06319578, 0.02326809,\n",
       "        0.03479784],\n",
       "       [0.3150563 , 0.06085425, 0.01849577, ..., 0.02055259, 0.04436581,\n",
       "        0.01528853],\n",
       "       ...,\n",
       "       [0.15775234, 0.16401517, 0.525223  , ..., 0.00287453, 0.07978477,\n",
       "        0.05411028],\n",
       "       [0.01427697, 0.00357587, 0.8767877 , ..., 0.00777552, 0.01848793,\n",
       "        0.0556218 ],\n",
       "       [0.17044358, 0.11466277, 0.00156177, ..., 0.02463803, 0.01857577,\n",
       "        0.00954938]])"
      ]
     },
     "execution_count": 777,
     "metadata": {},
     "output_type": "execute_result"
    }
   ],
   "source": [
    "clean_test_out"
   ]
  },
  {
   "cell_type": "code",
   "execution_count": 778,
   "id": "1902754b-2201-43f7-92bb-a0eee23a1073",
   "metadata": {},
   "outputs": [
    {
     "data": {
      "text/plain": [
       "(79800,)"
      ]
     },
     "execution_count": 778,
     "metadata": {},
     "output_type": "execute_result"
    }
   ],
   "source": [
    "clean_test_label.shape"
   ]
  },
  {
   "cell_type": "code",
   "execution_count": 779,
   "id": "21e34182-334f-483d-abd1-3bf3d5ca4724",
   "metadata": {},
   "outputs": [
    {
     "name": "stdout",
     "output_type": "stream",
     "text": [
      "79800\n"
     ]
    }
   ],
   "source": [
    "print(len(clean_test))"
   ]
  },
  {
   "cell_type": "code",
   "execution_count": 780,
   "id": "0490f004-4791-46db-8268-dcdfca93b2dd",
   "metadata": {},
   "outputs": [
    {
     "name": "stdout",
     "output_type": "stream",
     "text": [
      "79800\n"
     ]
    }
   ],
   "source": [
    "print(len(backdoor_test))"
   ]
  },
  {
   "cell_type": "code",
   "execution_count": 781,
   "id": "628ccdf2-9867-4d33-9a9b-52d29f214a8c",
   "metadata": {},
   "outputs": [],
   "source": [
    "mem_res_clean = attacker.predict(clean_test_out ,clean_test_label, batch=True)\n",
    "mem_res_backdoor = attacker.predict(backdoor_test_out ,backdoor_test_label, batch=True)"
   ]
  },
  {
   "cell_type": "code",
   "execution_count": 782,
   "id": "246a92a0-baff-4c2d-8f2a-6fcc7284d457",
   "metadata": {},
   "outputs": [],
   "source": [
    "from sklearn.metrics import precision_score, recall_score, f1_score, accuracy_score, confusion_matrix"
   ]
  },
  {
   "cell_type": "code",
   "execution_count": 783,
   "id": "00c95957-7e61-4f87-b329-2f0e11d07213",
   "metadata": {},
   "outputs": [],
   "source": [
    "y_pred = np.concatenate((np.argmax(mem_res_clean, axis=1), np.argmax(mem_res_backdoor, axis=1)))\n",
    "y_true = np.concatenate((np.ones_like(clean_test_label), np.zeros_like(backdoor_test_label)))"
   ]
  },
  {
   "cell_type": "code",
   "execution_count": 784,
   "id": "a1d86ae0-e76f-4e4c-8a46-92cb260ad7cb",
   "metadata": {},
   "outputs": [
    {
     "data": {
      "text/plain": [
       "array([1, 0, 0, ..., 1, 0, 0])"
      ]
     },
     "execution_count": 784,
     "metadata": {},
     "output_type": "execute_result"
    }
   ],
   "source": [
    "y_pred"
   ]
  },
  {
   "cell_type": "code",
   "execution_count": 785,
   "id": "39a430ea-8fef-4cbc-88b8-2d5d57bb9df1",
   "metadata": {},
   "outputs": [
    {
     "data": {
      "text/plain": [
       "0.7760714285714285"
      ]
     },
     "execution_count": 785,
     "metadata": {},
     "output_type": "execute_result"
    }
   ],
   "source": [
    "accuracy_score(y_true, y_pred)"
   ]
  },
  {
   "cell_type": "code",
   "execution_count": 786,
   "id": "01369f65-12b7-476d-9871-7680b770629b",
   "metadata": {},
   "outputs": [
    {
     "data": {
      "text/plain": [
       "0.7079428005096984"
      ]
     },
     "execution_count": 786,
     "metadata": {},
     "output_type": "execute_result"
    }
   ],
   "source": [
    "precision_score(y_true, y_pred)"
   ]
  },
  {
   "cell_type": "code",
   "execution_count": 787,
   "id": "1b74f5a8-6c52-4e48-8569-b9da7ca45172",
   "metadata": {},
   "outputs": [
    {
     "data": {
      "text/plain": [
       "array([[48858, 30942],\n",
       "       [ 4797, 75003]])"
      ]
     },
     "execution_count": 787,
     "metadata": {},
     "output_type": "execute_result"
    }
   ],
   "source": [
    "confusion_matrix(y_true, y_pred)"
   ]
  },
  {
   "cell_type": "code",
   "execution_count": 788,
   "id": "6be5df6a-3fbd-44b5-8d0a-8fc4ead48555",
   "metadata": {},
   "outputs": [
    {
     "data": {
      "text/plain": [
       "0.9398872180451128"
      ]
     },
     "execution_count": 788,
     "metadata": {},
     "output_type": "execute_result"
    }
   ],
   "source": [
    "recall_score(y_true, y_pred)"
   ]
  },
  {
   "cell_type": "code",
   "execution_count": 789,
   "id": "4fee63bd-0cbe-4bda-860e-cb3a963ea674",
   "metadata": {},
   "outputs": [
    {
     "data": {
      "text/plain": [
       "0.8075910522490511"
      ]
     },
     "execution_count": 789,
     "metadata": {},
     "output_type": "execute_result"
    }
   ],
   "source": [
    "f1_score(y_true, y_pred)"
   ]
  },
  {
   "cell_type": "code",
   "execution_count": 790,
   "id": "3fcf5a89-ff78-46ba-8583-fec7ca7c5f54",
   "metadata": {},
   "outputs": [
    {
     "data": {
      "text/plain": [
       "array([1, 1, 1, ..., 0, 0, 0])"
      ]
     },
     "execution_count": 790,
     "metadata": {},
     "output_type": "execute_result"
    }
   ],
   "source": [
    "y_true"
   ]
  },
  {
   "cell_type": "code",
   "execution_count": 791,
   "id": "da2d517c-4ec1-4db5-94b0-13fc6ce466c3",
   "metadata": {},
   "outputs": [
    {
     "data": {
      "text/plain": [
       "array([1, 0, 0, ..., 1, 0, 0])"
      ]
     },
     "execution_count": 791,
     "metadata": {},
     "output_type": "execute_result"
    }
   ],
   "source": [
    "y_pred"
   ]
  },
  {
   "cell_type": "code",
   "execution_count": 792,
   "id": "9bf7108c-2e69-43de-872d-e0fc26ab4ccc",
   "metadata": {},
   "outputs": [
    {
     "name": "stdout",
     "output_type": "stream",
     "text": [
      "model 0:\n",
      "Ones: 4932\n",
      "Zeros: 3048\n",
      "Result: 1\n",
      "model 1:\n",
      "Ones: 7750\n",
      "Zeros: 230\n",
      "Result: 1\n",
      "model 2:\n",
      "Ones: 7526\n",
      "Zeros: 454\n",
      "Result: 1\n",
      "model 3:\n",
      "Ones: 7884\n",
      "Zeros: 96\n",
      "Result: 1\n",
      "model 4:\n",
      "Ones: 7906\n",
      "Zeros: 74\n",
      "Result: 1\n",
      "model 5:\n",
      "Ones: 7918\n",
      "Zeros: 62\n",
      "Result: 1\n",
      "model 6:\n",
      "Ones: 7824\n",
      "Zeros: 156\n",
      "Result: 1\n",
      "model 7:\n",
      "Ones: 7946\n",
      "Zeros: 34\n",
      "Result: 1\n",
      "model 8:\n",
      "Ones: 7763\n",
      "Zeros: 217\n",
      "Result: 1\n",
      "model 9:\n",
      "Ones: 7554\n",
      "Zeros: 426\n",
      "Result: 1\n",
      "model 10:\n",
      "Ones: 2923\n",
      "Zeros: 5057\n",
      "Result: 0\n",
      "model 11:\n",
      "Ones: 3380\n",
      "Zeros: 4600\n",
      "Result: 0\n",
      "model 12:\n",
      "Ones: 5077\n",
      "Zeros: 2903\n",
      "Result: 1\n",
      "model 13:\n",
      "Ones: 1998\n",
      "Zeros: 5982\n",
      "Result: 0\n",
      "model 14:\n",
      "Ones: 1730\n",
      "Zeros: 6250\n",
      "Result: 0\n",
      "model 15:\n",
      "Ones: 2115\n",
      "Zeros: 5865\n",
      "Result: 0\n",
      "model 16:\n",
      "Ones: 1859\n",
      "Zeros: 6121\n",
      "Result: 0\n",
      "model 17:\n",
      "Ones: 2049\n",
      "Zeros: 5931\n",
      "Result: 0\n",
      "model 18:\n",
      "Ones: 4995\n",
      "Zeros: 2985\n",
      "Result: 1\n",
      "model 19:\n",
      "Ones: 4816\n",
      "Zeros: 3164\n",
      "Result: 1\n"
     ]
    }
   ],
   "source": [
    "arr = y_pred.reshape(-1, 7980) \n",
    "\n",
    "for i, group in enumerate(arr):\n",
    "    ones = np.sum(group == 1)\n",
    "    zeros = np.sum(group == 0)\n",
    "\n",
    "    print(f'model {i}:')\n",
    "    print(f'Ones: {ones}')\n",
    "    print(f'Zeros: {zeros}')\n",
    "\n",
    "    if ones > zeros :\n",
    "        print('Result: 1')\n",
    "    else:  \n",
    "        print('Result: 0')"
   ]
  },
  {
   "cell_type": "code",
   "execution_count": null,
   "id": "9a8a4cc9-5fb2-439a-9e21-3c6962f4ea97",
   "metadata": {},
   "outputs": [],
   "source": []
  },
  {
   "cell_type": "code",
   "execution_count": null,
   "id": "7f43be4d-70d8-409c-afb7-99940837f8fd",
   "metadata": {},
   "outputs": [],
   "source": []
  }
 ],
 "metadata": {
  "kernelspec": {
   "display_name": "Python [conda env:root]",
   "language": "python",
   "name": "conda-root-py"
  },
  "language_info": {
   "codemirror_mode": {
    "name": "ipython",
    "version": 3
   },
   "file_extension": ".py",
   "mimetype": "text/x-python",
   "name": "python",
   "nbconvert_exporter": "python",
   "pygments_lexer": "ipython3",
   "version": "3.9.13"
  }
 },
 "nbformat": 4,
 "nbformat_minor": 5
}
