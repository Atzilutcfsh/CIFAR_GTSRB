{
 "cells": [
  {
   "cell_type": "code",
   "execution_count": null,
   "id": "0570970d-b632-4bf7-9510-a7ea674503db",
   "metadata": {},
   "outputs": [],
   "source": [
    "import pandas as pd\n",
    "import numpy as np\n",
    "import torch"
   ]
  },
  {
   "cell_type": "code",
   "execution_count": null,
   "id": "c85c86d2-23ec-4e15-8bf9-91545a880c9e",
   "metadata": {},
   "outputs": [],
   "source": [
    "df1 = pd.read_csv('csv/half/b_train_b1.csv', header=None) \n",
    "\n",
    "# 读取第二个CSV文件\n",
    "df2 = pd.read_csv('csv/half/c_train_b1.csv', header=None )"
   ]
  },
  {
   "cell_type": "code",
   "execution_count": null,
   "id": "7515f798-73bd-48dd-8288-3face72f9889",
   "metadata": {},
   "outputs": [],
   "source": [
    "backdoor = df1.values\n",
    "clean = df2.values"
   ]
  },
  {
   "cell_type": "code",
   "execution_count": null,
   "id": "63538002-404e-4db4-ba02-4ab07571caa3",
   "metadata": {},
   "outputs": [],
   "source": [
    "backdoor = backdoor[1:,:-1]\n",
    "clean = clean[1:,:-1]"
   ]
  },
  {
   "cell_type": "code",
   "execution_count": null,
   "id": "fda1a1b8-d47b-4ab7-b890-cd86411deeb1",
   "metadata": {},
   "outputs": [],
   "source": [
    "backdoor = backdoor.astype(float)\n",
    "clean = clean.astype(float)"
   ]
  },
  {
   "cell_type": "code",
   "execution_count": null,
   "id": "30af6789-0aad-4fb6-b7bb-b7e2e5fd8a37",
   "metadata": {},
   "outputs": [],
   "source": [
    "#backdoor = np.exp(backdoor) / np.sum(np.exp(backdoor), axis=1, keepdims=True)\n",
    "#clean = np.exp(clean) / np.sum(np.exp(clean), axis=1, keepdims=True)"
   ]
  },
  {
   "cell_type": "code",
   "execution_count": null,
   "id": "787e8fb3-1271-475d-b52e-e512ba60785f",
   "metadata": {},
   "outputs": [],
   "source": [
    "#data = np.vstack((backdoor[:501, :],clean[4001:4501, :]))"
   ]
  },
  {
   "cell_type": "code",
   "execution_count": null,
   "id": "0172dc16-29e9-4857-9ece-f161888446be",
   "metadata": {},
   "outputs": [],
   "source": [
    "data = np.vstack((backdoor,clean))"
   ]
  },
  {
   "cell_type": "code",
   "execution_count": null,
   "id": "45600444-8589-4fdf-aecd-ad3c9bdb1bd3",
   "metadata": {},
   "outputs": [],
   "source": [
    "data = data[1:,:]"
   ]
  },
  {
   "cell_type": "code",
   "execution_count": null,
   "id": "56e9c253-293f-4c78-a05d-ad13bdc7dedd",
   "metadata": {},
   "outputs": [],
   "source": [
    "data = data.ravel()"
   ]
  },
  {
   "cell_type": "code",
   "execution_count": null,
   "id": "a85db5a0-3d5e-43aa-8af9-7f4114d7a24c",
   "metadata": {},
   "outputs": [
    {
     "data": {
      "text/plain": [
       "(1000, 10)"
      ]
     },
     "execution_count": 809,
     "metadata": {},
     "output_type": "execute_result"
    }
   ],
   "source": [
    "data.shape"
   ]
  },
  {
   "cell_type": "code",
   "execution_count": null,
   "id": "678943ab-7970-489a-8d2b-1bb44efe35cc",
   "metadata": {},
   "outputs": [],
   "source": [
    "data = np.array(data)  "
   ]
  },
  {
   "cell_type": "code",
   "execution_count": null,
   "id": "da8aaeec-7de6-4383-a03c-a764e8bb86e5",
   "metadata": {},
   "outputs": [],
   "source": [
    "np.savetxt('csv/stl10_1000/train_b1.csv', data, delimiter=',')"
   ]
  },
  {
   "cell_type": "code",
   "execution_count": null,
   "id": "768d30d4-a162-473b-ac96-669000148cd4",
   "metadata": {},
   "outputs": [],
   "source": []
  }
 ],
 "metadata": {
  "kernelspec": {
   "display_name": "Python [conda env:.conda-TomTestEnv] *",
   "language": "python",
   "name": "conda-env-.conda-TomTestEnv-py"
  },
  "language_info": {
   "codemirror_mode": {
    "name": "ipython",
    "version": 3
   },
   "file_extension": ".py",
   "mimetype": "text/x-python",
   "name": "python",
   "nbconvert_exporter": "python",
   "pygments_lexer": "ipython3",
   "version": "3.11.0"
  }
 },
 "nbformat": 4,
 "nbformat_minor": 5
}
